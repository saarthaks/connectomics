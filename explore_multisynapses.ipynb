{
 "cells": [
  {
   "cell_type": "code",
   "execution_count": 1,
   "metadata": {},
   "outputs": [
    {
     "name": "stderr",
     "output_type": "stream",
     "text": [
      "/home/ssarup/anaconda3/envs/connectomics/lib/python3.11/site-packages/python_jsonschema_objects/__init__.py:113: UserWarning: Schema id not specified. Defaulting to 'self'\n",
      "  warnings.warn(\"Schema id not specified. Defaulting to 'self'\")\n"
     ]
    }
   ],
   "source": [
    "import pandas as pd\n",
    "import pickle\n",
    "import navis\n",
    "import networkx as nx\n",
    "import numpy as np\n",
    "from tqdm import tqdm\n",
    "from collections import defaultdict\n",
    "from core.Tree import Tree\n",
    "from core.Branch import BranchSeq\n",
    "from fafbseg import flywire\n",
    "from core.Tree import Tree\n",
    "import os\n",
    "from core.GenericBranch import GenericBranchSeq"
   ]
  },
  {
   "cell_type": "code",
   "execution_count": 2,
   "metadata": {},
   "outputs": [
    {
     "name": "stderr",
     "output_type": "stream",
     "text": [
      "/tmp/ipykernel_3255922/2993239971.py:1: DtypeWarning: Columns (14,15,16,17,23) have mixed types. Specify dtype option on import or set low_memory=False.\n",
      "  cell_df = pd.read_csv('neuron_annotation.tsv', sep='\\t', index_col=0)\n"
     ]
    },
    {
     "data": {
      "text/plain": [
       "{1102: {'inc_synapse_pos': array([[644.84 , 138.744, 184.76 ]]),\n",
       "  'pre_cell_id': [720575940621123113],\n",
       "  'top_nts': ['acetylcholine'],\n",
       "  'top_nt_conf': [0.9175052320949768],\n",
       "  'flow': ['intrinsic'],\n",
       "  'cell_type': ['Unknown'],\n",
       "  'hemibrain_type': ['DL2d_adPN'],\n",
       "  'cell_sub_class': ['uniglomerular'],\n",
       "  'cell_class': ['ALPN'],\n",
       "  'super_class': ['central'],\n",
       "  'cleft_score': [142]},\n",
       " 1121: {'inc_synapse_pos': array([[645.24 , 141.088, 184.36 ]]),\n",
       "  'pre_cell_id': [720575940621123113],\n",
       "  'top_nts': ['acetylcholine'],\n",
       "  'top_nt_conf': [0.9175052320949768],\n",
       "  'flow': ['intrinsic'],\n",
       "  'cell_type': ['Unknown'],\n",
       "  'hemibrain_type': ['DL2d_adPN'],\n",
       "  'cell_sub_class': ['uniglomerular'],\n",
       "  'cell_class': ['ALPN'],\n",
       "  'super_class': ['central'],\n",
       "  'cleft_score': [149]},\n",
       " 1131: {},\n",
       " 1038: {'inc_synapse_pos': array([[643.456, 141.032, 180.24 ]]),\n",
       "  'pre_cell_id': [720575940621123113],\n",
       "  'top_nts': ['acetylcholine'],\n",
       "  'top_nt_conf': [0.9175052320949768],\n",
       "  'flow': ['intrinsic'],\n",
       "  'cell_type': ['Unknown'],\n",
       "  'hemibrain_type': ['DL2d_adPN'],\n",
       "  'cell_sub_class': ['uniglomerular'],\n",
       "  'cell_class': ['ALPN'],\n",
       "  'super_class': ['central'],\n",
       "  'cleft_score': [147]},\n",
       " 1022: {'inc_synapse_pos': array([[642.912, 139.456, 180.68 ]]),\n",
       "  'pre_cell_id': [720575940614137809],\n",
       "  'top_nts': ['gaba'],\n",
       "  'top_nt_conf': [0.755986638157518],\n",
       "  'flow': ['intrinsic'],\n",
       "  'cell_type': ['Unknown'],\n",
       "  'hemibrain_type': ['LHPV12a1'],\n",
       "  'cell_sub_class': ['Unknown'],\n",
       "  'cell_class': ['Unknown'],\n",
       "  'super_class': ['central'],\n",
       "  'cleft_score': [88]},\n",
       " 1034: {'inc_synapse_pos': array([[643.32 , 140.072, 181.68 ]]),\n",
       "  'pre_cell_id': [720575940621123113],\n",
       "  'top_nts': ['acetylcholine'],\n",
       "  'top_nt_conf': [0.9175052320949768],\n",
       "  'flow': ['intrinsic'],\n",
       "  'cell_type': ['Unknown'],\n",
       "  'hemibrain_type': ['DL2d_adPN'],\n",
       "  'cell_sub_class': ['uniglomerular'],\n",
       "  'cell_class': ['ALPN'],\n",
       "  'super_class': ['central'],\n",
       "  'cleft_score': [145]},\n",
       " 1046: {'inc_synapse_pos': array([[643.816, 139.936, 182.2  ]]),\n",
       "  'pre_cell_id': [720575940621123113],\n",
       "  'top_nts': ['acetylcholine'],\n",
       "  'top_nt_conf': [0.9175052320949768],\n",
       "  'flow': ['intrinsic'],\n",
       "  'cell_type': ['Unknown'],\n",
       "  'hemibrain_type': ['DL2d_adPN'],\n",
       "  'cell_sub_class': ['uniglomerular'],\n",
       "  'cell_class': ['ALPN'],\n",
       "  'super_class': ['central'],\n",
       "  'cleft_score': [144]},\n",
       " 1062: {'inc_synapse_pos': array([[644.184, 139.724, 181.   ]]),\n",
       "  'pre_cell_id': [720575940621123113],\n",
       "  'top_nts': ['acetylcholine'],\n",
       "  'top_nt_conf': [0.9175052320949768],\n",
       "  'flow': ['intrinsic'],\n",
       "  'cell_type': ['Unknown'],\n",
       "  'hemibrain_type': ['DL2d_adPN'],\n",
       "  'cell_sub_class': ['uniglomerular'],\n",
       "  'cell_class': ['ALPN'],\n",
       "  'super_class': ['central'],\n",
       "  'cleft_score': [148]}}"
      ]
     },
     "execution_count": 2,
     "metadata": {},
     "output_type": "execute_result"
    }
   ],
   "source": [
    "cell_df = pd.read_csv('neuron_annotation.tsv', sep='\\t', index_col=0)\n",
    "mb_ids = cell_df[cell_df['cell_class'] == 'Kenyon_Cell']['root_id'].values\n",
    "\n",
    "with open('/drive_sdc/ssarup/flywire_data/mushroom_body/mb_branches.pkl', 'rb') as f:\n",
    "    mb_branches = pickle.load(f)\n",
    "\n",
    "mb_branches[720575940617650722][1].node_dict"
   ]
  },
  {
   "cell_type": "code",
   "execution_count": 51,
   "metadata": {},
   "outputs": [],
   "source": [
    "from core.flywire_utils import *\n",
    "\n",
    "def find_presyn_from_branch(branch):\n",
    "    post = branch.cell_id\n",
    "\n",
    "    if sum(branch.inc_syn_per_node.values()) != len(branch.path):\n",
    "        branch.reorder_node_inc_synapses()\n",
    "\n",
    "    inc_cellid_sequence = []\n",
    "    inc_synpos_sequence = []\n",
    "    for node in branch.path:\n",
    "        num_syn = branch.inc_syn_per_node[node]\n",
    "        for syn in range(num_syn):\n",
    "            inc_synpos_sequence.append(branch.node_dict[node]['inc_synapse_pos'][syn])\n",
    "            inc_cellid_sequence.append(branch.node_dict[node]['pre_cell_id'][syn])\n",
    "\n",
    "    # find any id that repeats at least 3 times in succession like [..., 'A', 'A', 'A', ...]\n",
    "    # save their position\n",
    "    repeat_ids = set()\n",
    "    repeat_pos = {}\n",
    "    curr_id = None\n",
    "    for i in range(2, len(inc_cellid_sequence)):\n",
    "        if inc_cellid_sequence[i] == inc_cellid_sequence[i-1] and inc_cellid_sequence[i] == inc_cellid_sequence[i-2]:\n",
    "            repeat_ids.add(inc_cellid_sequence[i])\n",
    "            if curr_id == inc_cellid_sequence[i]:\n",
    "                repeat_pos[inc_cellid_sequence[i]].append(inc_synpos_sequence[i])\n",
    "            else:\n",
    "                repeat_pos[inc_cellid_sequence[i]] = [inc_synpos_sequence[i-2:i+1]]\n",
    "            curr_id = inc_cellid_sequence[i]\n",
    "        else:\n",
    "            curr_id = None\n",
    "    \n",
    "    if len(repeat_ids) == 0:\n",
    "        print('No repeating IDs found in', inc_cellid_sequence)\n",
    "        return None, None, None\n",
    "    \n",
    "    print('IDs', repeat_ids, 'repeat in', inc_cellid_sequence)\n",
    "\n",
    "    trees = load_tree_dict(repeat_ids)\n",
    "    repeat_nodes = {}\n",
    "    for cid in repeat_ids:\n",
    "        G = trees[cid].graph\n",
    "        pre_synapses = []\n",
    "        for node in G.nodes:\n",
    "            if post in G.nodes[node].get('post_cell_id', []):\n",
    "                indices = np.where(np.array(G.nodes[node]['post_cell_id']) == post)[0]\n",
    "                pre_synapses.extend(list(zip(G.nodes[node]['out_synapse_pos'][indices], len(indices)*[node], indices)))\n",
    "\n",
    "        # collect all the presynapse positions, then find closest position to each repeat position\n",
    "        pre_positions = [pos for pos, _, _ in pre_synapses]\n",
    "        repeat_nodes[cid] = []\n",
    "        repeat_pos[cid] = np.array(repeat_pos[cid]).squeeze()\n",
    "        for pos in repeat_pos[cid]:\n",
    "            dists = [np.linalg.norm(np.array(pos) - np.array(p)) for p in pre_positions]\n",
    "            closest = np.argmin(dists)\n",
    "            _, node, index = pre_synapses[closest]\n",
    "            repeat_nodes[cid].append(((node, index), dists[closest]))\n",
    "    \n",
    "    return repeat_pos, repeat_nodes, trees\n",
    "\n"
   ]
  },
  {
   "cell_type": "code",
   "execution_count": 52,
   "metadata": {},
   "outputs": [
    {
     "name": "stdout",
     "output_type": "stream",
     "text": [
      "IDs {720575940615366055} repeat in [720575940613583001, 720575940615366055, 720575940615366055, 720575940615366055]\n"
     ]
    },
    {
     "name": "stderr",
     "output_type": "stream",
     "text": [
      "100%|██████████| 1/1 [00:00<00:00, 12.22it/s]\n"
     ]
    }
   ],
   "source": [
    "repeat_pos, repeat_nodes, trees = find_presyn_from_branch(mb_branches[720575940617650722][18])"
   ]
  },
  {
   "cell_type": "code",
   "execution_count": 53,
   "metadata": {},
   "outputs": [
    {
     "data": {
      "text/plain": [
       "({720575940615366055: array([[651.656, 134.664, 182.12 ],\n",
       "         [654.02 , 135.192, 182.72 ],\n",
       "         [653.608, 136.328, 181.92 ]])},\n",
       " {720575940615366055: [((8170, 14), 2.433765806317527),\n",
       "   ((8170, 14), 0.11327841806800616),\n",
       "   ((8165, 0), 0.13206059215375898)]},\n",
       " {720575940615366055: <core.Tree.Tree at 0x7fc4c1a43a10>})"
      ]
     },
     "execution_count": 53,
     "metadata": {},
     "output_type": "execute_result"
    }
   ],
   "source": [
    "repeat_pos, repeat_nodes, trees"
   ]
  },
  {
   "cell_type": "code",
   "execution_count": 54,
   "metadata": {},
   "outputs": [
    {
     "data": {
      "text/plain": [
       "1"
      ]
     },
     "execution_count": 54,
     "metadata": {},
     "output_type": "execute_result"
    }
   ],
   "source": [
    "nx.shortest_path_length(trees[720575940615366055].graph.to_undirected(), source=8170, target=8165)"
   ]
  },
  {
   "cell_type": "code",
   "execution_count": null,
   "metadata": {},
   "outputs": [],
   "source": []
  },
  {
   "cell_type": "code",
   "execution_count": null,
   "metadata": {},
   "outputs": [],
   "source": []
  },
  {
   "cell_type": "code",
   "execution_count": null,
   "metadata": {},
   "outputs": [],
   "source": []
  }
 ],
 "metadata": {
  "kernelspec": {
   "display_name": "connectomics",
   "language": "python",
   "name": "python3"
  },
  "language_info": {
   "codemirror_mode": {
    "name": "ipython",
    "version": 3
   },
   "file_extension": ".py",
   "mimetype": "text/x-python",
   "name": "python",
   "nbconvert_exporter": "python",
   "pygments_lexer": "ipython3",
   "version": "3.11.8"
  }
 },
 "nbformat": 4,
 "nbformat_minor": 2
}
